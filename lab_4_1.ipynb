{
  "nbformat": 4,
  "nbformat_minor": 0,
  "metadata": {
    "colab": {
      "name": "lab_4_1.ipynb",
      "provenance": [],
      "collapsed_sections": [],
      "toc_visible": true
    },
    "kernelspec": {
      "display_name": "Python 3",
      "language": "python",
      "name": "python3"
    },
    "language_info": {
      "codemirror_mode": {
        "name": "ipython",
        "version": 3
      },
      "file_extension": ".py",
      "mimetype": "text/x-python",
      "name": "python",
      "nbconvert_exporter": "python",
      "pygments_lexer": "ipython3",
      "version": "3.7.4"
    }
  },
  "cells": [
    {
      "cell_type": "markdown",
      "metadata": {
        "colab_type": "text",
        "id": "OTpnyUEJrAjE"
      },
      "source": [
        "# APS1070\n",
        "#### Linear Regression - Project 4"
      ]
    },
    {
      "cell_type": "markdown",
      "metadata": {
        "colab_type": "text",
        "id": "fUdJ6xw3rJIG"
      },
      "source": [
        "Please fill out the following:\n",
        "\n",
        "\n",
        "*   Your **name**:Zihao Jiao\n",
        "*   Your **student number**:1002213428\n",
        "\n"
      ]
    },
    {
      "cell_type": "markdown",
      "metadata": {
        "colab_type": "text",
        "id": "oLFrnQo9wA4H"
      },
      "source": [
        "## How to use this Notebook"
      ]
    },
    {
      "cell_type": "markdown",
      "metadata": {
        "colab_type": "text",
        "id": "Ryuq8mw8wA4J"
      },
      "source": [
        "1. Run the cells to get a bird's eye view of whats going on.\n",
        "2. Interact with the code to better understand how it works - add cells, plot values, change parameters, etc.\n",
        "3. (Optional) Replicate Linear Regression code on a blank notebook, without viewing this code. [This is called retrieval practice.](https://www.learningscientists.org/blog/2016/6/23-1)\n",
        "4. Complete exercises."
      ]
    },
    {
      "cell_type": "markdown",
      "metadata": {
        "colab_type": "text",
        "id": "Jn-UWaxnwA4K"
      },
      "source": [
        "## Linear Regression - Introduction"
      ]
    },
    {
      "cell_type": "markdown",
      "metadata": {
        "colab_type": "text",
        "id": "kS-L6yG_wA4L"
      },
      "source": [
        "### Linear Regression"
      ]
    },
    {
      "cell_type": "markdown",
      "metadata": {
        "id": "2mFMzlbcbcs0",
        "colab_type": "text"
      },
      "source": [
        "In statistics, linear regression is a linear approach to modelling the relationship between a dependent variable and one or more independent variables. Let X be the independent variable and Y be the dependent variable. We will define a linear relationship between these two variables as follows:"
      ]
    },
    {
      "cell_type": "markdown",
      "metadata": {
        "id": "R3JNdY_Cbcs0",
        "colab_type": "text"
      },
      "source": [
        "$y = mX + c$"
      ]
    },
    {
      "cell_type": "markdown",
      "metadata": {
        "id": "6YAZTV1Mbcs1",
        "colab_type": "text"
      },
      "source": [
        "This is the equation for a line that you studied in high school. m is the slope of the line and c is the y intercept. Today we will use this equation to train our model with a given dataset and predict the value of Y for any given value of X. Our challenge today is to determine the value of m and c, such that the line corresponding to those values is the best fitting line or gives the minimum error."
      ]
    },
    {
      "cell_type": "markdown",
      "metadata": {
        "id": "9ENvOgIIbcs1",
        "colab_type": "text"
      },
      "source": [
        "Are we always fitting a line into the data? What if we have more than 1 feature (independant variable)?"
      ]
    },
    {
      "cell_type": "markdown",
      "metadata": {
        "id": "_lhIIg3Pbcs2",
        "colab_type": "text"
      },
      "source": [
        "The vectorized form of above equation is written as $y = Xw$, where y and w are vectors while X is a matrix. \n",
        "\n",
        "Where is the c term? It is included within the X matrix."
      ]
    },
    {
      "cell_type": "markdown",
      "metadata": {
        "id": "qyYxxkfAbcs2",
        "colab_type": "text"
      },
      "source": [
        "**Hypothesis of Linear Regression**"
      ]
    },
    {
      "cell_type": "markdown",
      "metadata": {
        "id": "KUz5wFvUbcs3",
        "colab_type": "text"
      },
      "source": [
        "The linear regression model can be represented by the following equation:"
      ]
    },
    {
      "cell_type": "markdown",
      "metadata": {
        "id": "M6E-PKb_bcs3",
        "colab_type": "text"
      },
      "source": [
        "<img src=\"https://miro.medium.com/max/313/1*A32yDrkQKIU0Z-Nf7JD9Pg.png\">"
      ]
    },
    {
      "cell_type": "markdown",
      "metadata": {
        "id": "q_aOnL22bcs4",
        "colab_type": "text"
      },
      "source": [
        "- Y is the predicted value ($h_\\theta(x)$)\n",
        "- θ₀ is the bias term.\n",
        "- θ₁,…,θₙ are the model parameters\n",
        "- x₁, x₂,…,xₙ are the feature values."
      ]
    },
    {
      "cell_type": "markdown",
      "metadata": {
        "colab_type": "text",
        "id": "bD4i39QVwA4O"
      },
      "source": [
        "### LR - Procedure"
      ]
    },
    {
      "cell_type": "markdown",
      "metadata": {
        "id": "y6AiJnqnbcs5",
        "colab_type": "text"
      },
      "source": [
        "Our Loss function for Linear regression would be sum of squares, which makes the cost function to be:"
      ]
    },
    {
      "cell_type": "markdown",
      "metadata": {
        "id": "RUIa2Og3bcs5",
        "colab_type": "text"
      },
      "source": [
        "<img src=\"https://miro.medium.com/max/300/1*_y5QA1yF4w6LDDRxfTt6GA.jpeg\">"
      ]
    },
    {
      "cell_type": "markdown",
      "metadata": {
        "id": "53bIKpy5bcs6",
        "colab_type": "text"
      },
      "source": [
        "Here yᵢ is the actual value and ȳᵢ is the predicted value. Lets substitute the value of ȳᵢ from $y = mX + c$:"
      ]
    },
    {
      "cell_type": "markdown",
      "metadata": {
        "id": "Vgfn6x2Ubcs6",
        "colab_type": "text"
      },
      "source": [
        "<img src=\"https://miro.medium.com/max/400/1*3cpC7oHy4IbH3o3Jc-ygVw.jpeg\">"
      ]
    },
    {
      "cell_type": "markdown",
      "metadata": {
        "id": "w5GC9wklbcs7",
        "colab_type": "text"
      },
      "source": [
        "Partial Derivative of the above equation with respect to m is shown as $D_m$:"
      ]
    },
    {
      "cell_type": "markdown",
      "metadata": {
        "id": "MXzmtoFzbcs7",
        "colab_type": "text"
      },
      "source": [
        "<img src=\"https://miro.medium.com/max/400/1*FvYfCBrl2gX9K-KxSO1eIw.jpeg\">"
      ]
    },
    {
      "cell_type": "markdown",
      "metadata": {
        "id": "T4bzLgyXbcs7",
        "colab_type": "text"
      },
      "source": [
        "While the Partial Derivative with respect to c is shown as $D_c$:"
      ]
    },
    {
      "cell_type": "markdown",
      "metadata": {
        "id": "8YT6zO2-bcs8",
        "colab_type": "text"
      },
      "source": [
        "<img src=\"https://miro.medium.com/max/300/1*rj09w2TcBxnHPtQ0oq4ehA.jpeg\">"
      ]
    },
    {
      "cell_type": "markdown",
      "metadata": {
        "colab_type": "text",
        "id": "FNAgpf18wA4S"
      },
      "source": [
        "#### Analytical Approach for Linear Regression\n",
        "\n",
        "Can you derive the Analytical Solution for Linear Regression?"
      ]
    },
    {
      "cell_type": "markdown",
      "metadata": {
        "id": "9-vd5YWLbcs-",
        "colab_type": "text"
      },
      "source": [
        "We arrive at the analytical solution when we turn the partial derivatives with respect to the parameters to zero. Why?\n",
        "\n",
        "This is because at the point where cost function is at the minimum with respect to the parameters (m and c), the derivative of cost function with respect to the parameters would be zero."
      ]
    },
    {
      "cell_type": "markdown",
      "metadata": {
        "id": "kJBZTGZHbcs-",
        "colab_type": "text"
      },
      "source": [
        "$D_m=0$ and $D_c=0$"
      ]
    },
    {
      "cell_type": "markdown",
      "metadata": {
        "id": "o_qnAm8tbcs_",
        "colab_type": "text"
      },
      "source": [
        "The solution for the general case comes out to be:"
      ]
    },
    {
      "cell_type": "markdown",
      "metadata": {
        "id": "91CsuqsUbcs_",
        "colab_type": "text"
      },
      "source": [
        "<img src=\"https://sebastianraschka.com/images/faq/closed-form-vs-gd/closed-form.png\">"
      ]
    },
    {
      "cell_type": "markdown",
      "metadata": {
        "id": "nuHJAOmvbctA",
        "colab_type": "text"
      },
      "source": [
        "With $L_2$ Regularization. Cost:"
      ]
    },
    {
      "cell_type": "markdown",
      "metadata": {
        "id": "eCDCGqdbbctB",
        "colab_type": "text"
      },
      "source": [
        "$J(\\theta) = \\frac{1}{2m}[\\sum_{i=1}^m(h_\\theta (x^{(i)}) - y^{(i)})^2 + \\lambda\\sum_{j=1}^n\\theta^2_j]$"
      ]
    },
    {
      "cell_type": "markdown",
      "metadata": {
        "id": "w484FOiDbctC",
        "colab_type": "text"
      },
      "source": [
        "$w = (X^TX + \\lambda I)^{-1}X^Ty$"
      ]
    },
    {
      "cell_type": "markdown",
      "metadata": {
        "colab_type": "text",
        "heading_collapsed": true,
        "id": "iQyQ3hA6bctC"
      },
      "source": [
        "#### Gradient Descent Solution"
      ]
    },
    {
      "cell_type": "markdown",
      "metadata": {
        "hidden": true,
        "id": "4nPHi1eSbctC",
        "colab_type": "text"
      },
      "source": [
        "Gradient descent uses the equations for gradient derived above to find the direction in which we tinker the values of our parameters m and c. "
      ]
    },
    {
      "cell_type": "markdown",
      "metadata": {
        "hidden": true,
        "id": "y8RY7oFgbctD",
        "colab_type": "text"
      },
      "source": [
        "<img src=\"https://miro.medium.com/max/300/1*JDcHqFK8jLcgQu1cj2XuVQ.jpeg\">"
      ]
    },
    {
      "cell_type": "markdown",
      "metadata": {
        "hidden": true,
        "id": "TmX3-0DYbctD",
        "colab_type": "text"
      },
      "source": [
        "Here the term $L$ is defined as the learning rate."
      ]
    },
    {
      "cell_type": "markdown",
      "metadata": {
        "hidden": true,
        "id": "HW9l1_RBbctE",
        "colab_type": "text"
      },
      "source": [
        "<img src=\"https://miro.medium.com/max/864/1*CjTBNFUEI_IokEOXJ00zKw.gif\">"
      ]
    },
    {
      "cell_type": "markdown",
      "metadata": {
        "colab_type": "text",
        "id": "K0JkLAQWbctE"
      },
      "source": [
        "#### Any other solutions methods?"
      ]
    },
    {
      "cell_type": "markdown",
      "metadata": {
        "id": "9A_OEn8VbctE",
        "colab_type": "text"
      },
      "source": [
        "Some other solution methods are QR Decomposition, Singular-Value Decomposition.\n",
        "\n",
        "- Do these methods give exact solutions?\n",
        "- Do these methods scale well with large datasets?"
      ]
    },
    {
      "cell_type": "markdown",
      "metadata": {
        "colab_type": "text",
        "id": "sxvjbQZibctF"
      },
      "source": [
        "## Let's Start"
      ]
    },
    {
      "cell_type": "markdown",
      "metadata": {
        "id": "LEzWkTisbctF",
        "colab_type": "text"
      },
      "source": [
        "Single Feature, 5 data points."
      ]
    },
    {
      "cell_type": "markdown",
      "metadata": {
        "id": "VPNKfSh1bctG",
        "colab_type": "text"
      },
      "source": [
        "### Analytical Approach in Code\n",
        "\n",
        "Let's get our hands dirty."
      ]
    },
    {
      "cell_type": "code",
      "metadata": {
        "id": "_pUP_nOYbctG",
        "colab_type": "code",
        "colab": {}
      },
      "source": [
        "import numpy as np\n",
        "import pandas as pd\n",
        "import matplotlib.pyplot as plt\n",
        "import seaborn as sns\n",
        "from sklearn.linear_model import LinearRegression\n",
        "from sklearn.linear_model import Ridge\n",
        "from sklearn.preprocessing import PolynomialFeatures\n",
        "from sklearn.metrics import mean_squared_error"
      ],
      "execution_count": 0,
      "outputs": []
    },
    {
      "cell_type": "code",
      "metadata": {
        "id": "g2s-ZTXtbctI",
        "colab_type": "code",
        "colab": {}
      },
      "source": [
        "n = 5 # number of points\n",
        "m = 2 # slope of line\n",
        "c = 4 # y intercept of line\n",
        "r = 2 # range of data on x-axis\n",
        "\n",
        "np.random.seed(2)\n",
        "x = r * np.random.rand(n)\n",
        "x.sort()\n",
        "yPerf = m*x + c # perfect world: no noise\n",
        "y = m*x + c + np.random.randn(n) # imperfect world: we get noisy data"
      ],
      "execution_count": 0,
      "outputs": []
    },
    {
      "cell_type": "code",
      "metadata": {
        "id": "W1ofdb38PGpG",
        "colab_type": "code",
        "outputId": "0ac05f56-63ff-4de1-9c20-75e4b4637620",
        "colab": {
          "base_uri": "https://localhost:8080/",
          "height": 34
        }
      },
      "source": [
        "x"
      ],
      "execution_count": 0,
      "outputs": [
        {
          "output_type": "execute_result",
          "data": {
            "text/plain": [
              "array([0.05185246, 0.8407356 , 0.87064479, 0.8719898 , 1.09932496])"
            ]
          },
          "metadata": {
            "tags": []
          },
          "execution_count": 3
        }
      ]
    },
    {
      "cell_type": "markdown",
      "metadata": {
        "id": "RlW5IUn5bctJ",
        "colab_type": "text"
      },
      "source": [
        "Spoiler Alert: We are in an Imperfect World."
      ]
    },
    {
      "cell_type": "code",
      "metadata": {
        "id": "lNe4w9CdbctJ",
        "colab_type": "code",
        "colab": {}
      },
      "source": [
        "def rmse(yPred, y):\n",
        "    return np.sqrt(mean_squared_error(yPred, y))"
      ],
      "execution_count": 0,
      "outputs": []
    },
    {
      "cell_type": "code",
      "metadata": {
        "id": "YmkB-_lpbctL",
        "colab_type": "code",
        "outputId": "b454f851-95ea-4deb-c29d-d6ed73f73afc",
        "colab": {
          "base_uri": "https://localhost:8080/",
          "height": 265
        }
      },
      "source": [
        "plt.plot(x, y, 'o', label='Data')\n",
        "plt.plot(x, yPerf, 'o-', label='Underlying Distribution')\n",
        "\n",
        "plt.legend()\n",
        "plt.show()"
      ],
      "execution_count": 0,
      "outputs": [
        {
          "output_type": "display_data",
          "data": {
            "image/png": "[encoded data removed]",
            "text/plain": [
              "<Figure size 432x288 with 1 Axes>"
            ]
          },
          "metadata": {
            "tags": []
          }
        }
      ]
    },
    {
      "cell_type": "code",
      "metadata": {
        "id": "xL7-QF9TbctN",
        "colab_type": "code",
        "colab": {}
      },
      "source": [
        "x = np.vstack((np.ones(np.shape(x)), x)).T\n",
        "y = y.reshape(-1, 1)"
      ],
      "execution_count": 0,
      "outputs": []
    },
    {
      "cell_type": "code",
      "metadata": {
        "id": "70gnrF0XbctO",
        "colab_type": "code",
        "colab": {}
      },
      "source": [
        "# analytical solution\n",
        "w = np.dot(np.linalg.inv(np.dot(x.T, x)), np.dot(x.T, y))\n",
        "\n",
        "# prediction\n",
        "yPred = np.dot(x, w)"
      ],
      "execution_count": 0,
      "outputs": []
    },
    {
      "cell_type": "code",
      "metadata": {
        "id": "msWFfyD-bctQ",
        "colab_type": "code",
        "outputId": "c9ead719-6e9d-4bd7-de2f-7e3bef4757f1",
        "colab": {
          "base_uri": "https://localhost:8080/",
          "height": 34
        }
      },
      "source": [
        "w[0], w[1]"
      ],
      "execution_count": 0,
      "outputs": [
        {
          "output_type": "execute_result",
          "data": {
            "text/plain": [
              "(array([2.67741212]), array([3.35314632]))"
            ]
          },
          "metadata": {
            "tags": []
          },
          "execution_count": 8
        }
      ]
    },
    {
      "cell_type": "markdown",
      "metadata": {
        "id": "vlvll92zbctS",
        "colab_type": "text"
      },
      "source": [
        "- How similar are these to the values we had set initially?\n",
        "- Will they be same as those set initially if there was no noise?"
      ]
    },
    {
      "cell_type": "code",
      "metadata": {
        "id": "NyxfDFgfbctS",
        "colab_type": "code",
        "outputId": "5f345399-3e02-4610-9852-bf450ffad23a",
        "colab": {
          "base_uri": "https://localhost:8080/",
          "height": 265
        }
      },
      "source": [
        "plt.plot(x[:, 1], y, 'o', label='Data')\n",
        "plt.plot(x[:, 1], yPerf, 'o-', label='Underlying Distribution')\n",
        "plt.plot(x[:, 1], yPred, 'o-', label='Predicted')\n",
        "\n",
        "plt.legend()\n",
        "plt.show()"
      ],
      "execution_count": 0,
      "outputs": [
        {
          "output_type": "display_data",
          "data": {
            "image/png": "[encoded data removed]",
            "text/plain": [
              "<Figure size 432x288 with 1 Axes>"
            ]
          },
          "metadata": {
            "tags": []
          }
        }
      ]
    },
    {
      "cell_type": "code",
      "metadata": {
        "id": "2l5yQVtFbctU",
        "colab_type": "code",
        "outputId": "588d2d80-7b79-46b6-c012-70e5d726c43e",
        "colab": {
          "base_uri": "https://localhost:8080/",
          "height": 34
        }
      },
      "source": [
        "print('RMSE: ', rmse(yPred, y))"
      ],
      "execution_count": 0,
      "outputs": [
        {
          "output_type": "stream",
          "text": [
            "RMSE:  0.8321853483360432\n"
          ],
          "name": "stdout"
        }
      ]
    },
    {
      "cell_type": "markdown",
      "metadata": {
        "id": "o3ZG5e0YbctW",
        "colab_type": "text"
      },
      "source": [
        "### Complex Dependant Variable\n",
        "\n",
        "It's complicated."
      ]
    },
    {
      "cell_type": "code",
      "metadata": {
        "id": "T9eFKueSbctX",
        "colab_type": "code",
        "colab": {}
      },
      "source": [
        "n = 20 # number of points\n",
        "m = 3  # slope of line\n",
        "c = 10 # y intercept of line\n",
        "r = 2  # range of data on x-axis\n",
        "\n",
        "np.random.seed(10)\n",
        "X = xD = r * np.random.randn(n) # points also stored in xD (xData). will be useful later.\n",
        "X.sort()\n",
        "yPerf = X - 2 * (X ** 2) + 0.5 * (X ** 3)\n",
        "np.random.seed(10)\n",
        "y = X - 2 * (X ** 2) + 0.5 * (X ** 3) + np.random.normal(0, 5, n) # imperfect world: we get noisy data"
      ],
      "execution_count": 0,
      "outputs": []
    },
    {
      "cell_type": "code",
      "metadata": {
        "id": "OFpKR94YbctY",
        "colab_type": "code",
        "outputId": "2bc4d20d-cc6e-4955-cc6f-559d2f2b908b",
        "colab": {
          "base_uri": "https://localhost:8080/",
          "height": 265
        }
      },
      "source": [
        "plt.plot(X, y, 'o', label='Data')\n",
        "plt.plot(X, yPerf, 'o-', label='Underlying Distribution')\n",
        "\n",
        "plt.legend()\n",
        "plt.show()"
      ],
      "execution_count": 0,
      "outputs": [
        {
          "output_type": "display_data",
          "data": {
            "image/png": "[encoded data removed]",
            "text/plain": [
              "<Figure size 432x288 with 1 Axes>"
            ]
          },
          "metadata": {
            "tags": []
          }
        }
      ]
    },
    {
      "cell_type": "code",
      "metadata": {
        "id": "ka-pV7fGbctZ",
        "colab_type": "code",
        "colab": {}
      },
      "source": [
        "X = np.vstack((np.ones(np.shape(X)), X)).T\n",
        "y = y.reshape(-1, 1)"
      ],
      "execution_count": 0,
      "outputs": []
    },
    {
      "cell_type": "code",
      "metadata": {
        "id": "GZy6EK4Mbctb",
        "colab_type": "code",
        "outputId": "05912106-6b82-46a9-8661-f365465fc366",
        "colab": {
          "base_uri": "https://localhost:8080/",
          "height": 51
        }
      },
      "source": [
        "# analytical solution\n",
        "w = np.dot(np.linalg.inv(np.dot(X.T, X)), np.dot(X.T, y))\n",
        "\n",
        "# prediction\n",
        "yPredLinear = yPred = np.dot(X, w)\n",
        "\n",
        "w"
      ],
      "execution_count": 0,
      "outputs": [
        {
          "output_type": "execute_result",
          "data": {
            "text/plain": [
              "array([[-5.45917353],\n",
              "       [ 3.82202654]])"
            ]
          },
          "metadata": {
            "tags": []
          },
          "execution_count": 14
        }
      ]
    },
    {
      "cell_type": "code",
      "metadata": {
        "id": "NS_2S74qbctc",
        "colab_type": "code",
        "outputId": "5756a62a-2d4c-4b04-e66f-7067f09670e3",
        "colab": {
          "base_uri": "https://localhost:8080/",
          "height": 265
        }
      },
      "source": [
        "plt.plot(xD, y, 'o', label='Data')\n",
        "plt.plot(xD, yPerf, 'o-', label='Underlying Distribution')\n",
        "plt.plot(xD, yPred, 'o-', label='Predicted')\n",
        "\n",
        "plt.legend()\n",
        "plt.show()"
      ],
      "execution_count": 0,
      "outputs": [
        {
          "output_type": "display_data",
          "data": {
            "image/png": "[encoded data removed]",
            "text/plain": [
              "<Figure size 432x288 with 1 Axes>"
            ]
          },
          "metadata": {
            "tags": []
          }
        }
      ]
    },
    {
      "cell_type": "code",
      "metadata": {
        "id": "NkKlZkKkbctd",
        "colab_type": "code",
        "outputId": "d2926a95-b027-45c3-f244-addab0fab446",
        "colab": {
          "base_uri": "https://localhost:8080/",
          "height": 34
        }
      },
      "source": [
        "print('RMSE: ', rmse(yPred, y))"
      ],
      "execution_count": 0,
      "outputs": [
        {
          "output_type": "stream",
          "text": [
            "RMSE:  6.839531223681816\n"
          ],
          "name": "stdout"
        }
      ]
    },
    {
      "cell_type": "markdown",
      "metadata": {
        "id": "S6zNdggSbctf",
        "colab_type": "text"
      },
      "source": [
        "#### What to do next?\n",
        "\n",
        "Can we add more features."
      ]
    },
    {
      "cell_type": "code",
      "metadata": {
        "id": "zIDKcjBKbctf",
        "colab_type": "code",
        "colab": {}
      },
      "source": [
        "X = np.vstack((X.T, xD**2, xD**3)).T"
      ],
      "execution_count": 0,
      "outputs": []
    },
    {
      "cell_type": "code",
      "metadata": {
        "id": "XlhuePv2bcth",
        "colab_type": "code",
        "colab": {}
      },
      "source": [
        "# analytical solution\n",
        "w = np.dot(np.linalg.inv(np.dot(X.T, X)), np.dot(X.T, y))\n",
        "\n",
        "# prediction\n",
        "yPred4Feature = yPred = np.dot(X, w)"
      ],
      "execution_count": 0,
      "outputs": []
    },
    {
      "cell_type": "code",
      "metadata": {
        "id": "jk90FPCXbcti",
        "colab_type": "code",
        "outputId": "7c62a298-a752-4535-a098-4bd8f67f8871",
        "colab": {
          "base_uri": "https://localhost:8080/",
          "height": 85
        }
      },
      "source": [
        "w"
      ],
      "execution_count": 0,
      "outputs": [
        {
          "output_type": "execute_result",
          "data": {
            "text/plain": [
              "array([[ 0.04177438],\n",
              "       [ 2.58652514],\n",
              "       [-1.87142105],\n",
              "       [ 0.19655185]])"
            ]
          },
          "metadata": {
            "tags": []
          },
          "execution_count": 19
        }
      ]
    },
    {
      "cell_type": "code",
      "metadata": {
        "id": "As3fF2SMbctj",
        "colab_type": "code",
        "outputId": "1880871f-f24a-4c14-cd16-ca50385142ea",
        "colab": {
          "base_uri": "https://localhost:8080/",
          "height": 265
        }
      },
      "source": [
        "plt.plot(xD, y, 'o', label='Data')\n",
        "plt.plot(xD, yPerf, 'o-', label='Underlying Distribution')\n",
        "plt.plot(xD, yPred, 'o-', label='Predicted')\n",
        "\n",
        "plt.legend()\n",
        "plt.show()"
      ],
      "execution_count": 0,
      "outputs": [
        {
          "output_type": "display_data",
          "data": {
            "image/png": "[encoded data removed]",
            "text/plain": [
              "<Figure size 432x288 with 1 Axes>"
            ]
          },
          "metadata": {
            "tags": []
          }
        }
      ]
    },
    {
      "cell_type": "code",
      "metadata": {
        "id": "q4w21j3Wbctl",
        "colab_type": "code",
        "outputId": "de765a08-9eb2-41a7-9aed-62250db6c131",
        "colab": {
          "base_uri": "https://localhost:8080/",
          "height": 34
        }
      },
      "source": [
        "print('RMSE: ', rmse(yPred, y))"
      ],
      "execution_count": 0,
      "outputs": [
        {
          "output_type": "stream",
          "text": [
            "RMSE:  3.929493007090521\n"
          ],
          "name": "stdout"
        }
      ]
    },
    {
      "cell_type": "markdown",
      "metadata": {
        "id": "6UVOla-Obctm",
        "colab_type": "text"
      },
      "source": [
        "But how do we know when to stop, since we would not be knowing when to stop adding features in x."
      ]
    },
    {
      "cell_type": "code",
      "metadata": {
        "id": "a1dphgtbbctm",
        "colab_type": "code",
        "colab": {}
      },
      "source": [
        "X = np.vstack((X.T, xD**4, xD**5, xD**6, xD**7)).T"
      ],
      "execution_count": 0,
      "outputs": []
    },
    {
      "cell_type": "code",
      "metadata": {
        "id": "_9_6iGtVbcto",
        "colab_type": "code",
        "colab": {}
      },
      "source": [
        "# analytical solution\n",
        "w = np.dot(np.linalg.inv(np.dot(X.T, X)), np.dot(X.T, y))\n",
        "\n",
        "# prediction\n",
        "yPred8Feature = yPred = np.dot(X, w)"
      ],
      "execution_count": 0,
      "outputs": []
    },
    {
      "cell_type": "code",
      "metadata": {
        "id": "hz8q4G9Vbctp",
        "colab_type": "code",
        "outputId": "8c8153bd-242e-4e00-efbc-7a038a406b4e",
        "colab": {
          "base_uri": "https://localhost:8080/",
          "height": 153
        }
      },
      "source": [
        "w"
      ],
      "execution_count": 0,
      "outputs": [
        {
          "output_type": "execute_result",
          "data": {
            "text/plain": [
              "array([[-2.64611130e-01],\n",
              "       [ 8.28612458e+00],\n",
              "       [-2.07703327e+00],\n",
              "       [-6.35661778e+00],\n",
              "       [-1.30720676e-02],\n",
              "       [ 1.64293567e+00],\n",
              "       [-2.08380043e-03],\n",
              "       [-1.09229711e-01]])"
            ]
          },
          "metadata": {
            "tags": []
          },
          "execution_count": 24
        }
      ]
    },
    {
      "cell_type": "code",
      "metadata": {
        "id": "9wVphfLKbctq",
        "colab_type": "code",
        "outputId": "6c300cc9-3011-4267-c4aa-edbdaef86590",
        "colab": {
          "base_uri": "https://localhost:8080/",
          "height": 265
        }
      },
      "source": [
        "plt.plot(xD, y, 'o', label='Data')\n",
        "plt.plot(xD, yPerf, 'o-', label='Underlying Distribution')\n",
        "plt.plot(xD, yPred, 'o-', label='Predicted')\n",
        "\n",
        "plt.legend()\n",
        "plt.show()"
      ],
      "execution_count": 0,
      "outputs": [
        {
          "output_type": "display_data",
          "data": {
            "image/png": "[encoded data removed]",
            "text/plain": [
              "<Figure size 432x288 with 1 Axes>"
            ]
          },
          "metadata": {
            "tags": []
          }
        }
      ]
    },
    {
      "cell_type": "code",
      "metadata": {
        "id": "sB5FgxqCbcts",
        "colab_type": "code",
        "outputId": "ba6f9c5f-d8f1-4508-b70d-559ac7ae3a37",
        "colab": {
          "base_uri": "https://localhost:8080/",
          "height": 34
        }
      },
      "source": [
        "print('RMSE: ', rmse(yPred, y))"
      ],
      "execution_count": 0,
      "outputs": [
        {
          "output_type": "stream",
          "text": [
            "RMSE:  3.3097843019929725\n"
          ],
          "name": "stdout"
        }
      ]
    },
    {
      "cell_type": "markdown",
      "metadata": {
        "id": "bjUKcac3bctt",
        "colab_type": "text"
      },
      "source": [
        "Even though RMSE here (with much more higher features) is lower than previous case, we can see this Predicted Line is quite far from the Underlying distribution. This is called **Overfitting**."
      ]
    },
    {
      "cell_type": "markdown",
      "metadata": {
        "id": "mbgmXOxdbctu",
        "colab_type": "text"
      },
      "source": [
        "When does the model overfits: when we have more features or comparitively less data for the model.\n",
        "\n",
        "What exactly is overfitting:\n",
        "It pays more attention to the noise of the data provided, in a sense trying to rotely memorize everything, \n",
        "without generalizing. \n",
        "\n",
        "Since we don't know when to stop adding features, what can be done:\n",
        "- Solution is to work with a model or feature set that can slightly overfit your data, and then use techniques to prevent overfitting from happening.\n",
        "The alternative gives us underfitting which we cannot fix unless you modify the feature set or model.\n",
        "\n",
        "Options we have to prevent overfitting. Well there are many, most widely used ones are\n",
        "- Using a validation set\n",
        "- Regularization: add penalty on weights"
      ]
    },
    {
      "cell_type": "code",
      "metadata": {
        "id": "XZxmLfzjbctu",
        "colab_type": "code",
        "colab": {}
      },
      "source": [
        "λ = 10 # what is lambda: regularization parameter\n",
        "f = 8 # number of features"
      ],
      "execution_count": 0,
      "outputs": []
    },
    {
      "cell_type": "code",
      "metadata": {
        "id": "EWvLnUOTbctw",
        "colab_type": "code",
        "outputId": "62ebc79a-fc5e-4915-f0a6-1a475416d6c4",
        "colab": {
          "base_uri": "https://localhost:8080/",
          "height": 153
        }
      },
      "source": [
        "# analytical solution\n",
        "w = np.dot(np.linalg.inv(np.dot(X.T, X) + (λ)*np.identity(f)), np.dot(X.T, y))\n",
        "\n",
        "# prediction\n",
        "yPred8FeatRegu = yPred = np.dot(X, w)\n",
        "w"
      ],
      "execution_count": 0,
      "outputs": [
        {
          "output_type": "execute_result",
          "data": {
            "text/plain": [
              "array([[ 0.21326186],\n",
              "       [ 0.40727946],\n",
              "       [-0.46745243],\n",
              "       [-0.31891582],\n",
              "       [-0.51080301],\n",
              "       [ 0.38864889],\n",
              "       [ 0.03613141],\n",
              "       [-0.03367748]])"
            ]
          },
          "metadata": {
            "tags": []
          },
          "execution_count": 28
        }
      ]
    },
    {
      "cell_type": "code",
      "metadata": {
        "id": "CQiyDIi_bctx",
        "colab_type": "code",
        "outputId": "6c23bbe6-9f5c-4185-a8b3-e047c3c1dc06",
        "colab": {
          "base_uri": "https://localhost:8080/",
          "height": 265
        }
      },
      "source": [
        "plt.plot(xD, y, 'o', label='Data')\n",
        "plt.plot(xD, yPerf, 'o-', label='Underlying Distribution')\n",
        "plt.plot(xD, yPred, 'o-', label='Predicted')\n",
        "\n",
        "plt.legend()\n",
        "plt.show()"
      ],
      "execution_count": 0,
      "outputs": [
        {
          "output_type": "display_data",
          "data": {
            "image/png": "[encoded data removed]",
            "text/plain": [
              "<Figure size 432x288 with 1 Axes>"
            ]
          },
          "metadata": {
            "tags": []
          }
        }
      ]
    },
    {
      "cell_type": "markdown",
      "metadata": {
        "id": "gw4mgsnbbct0",
        "colab_type": "text"
      },
      "source": [
        "Can we know from the plot if the value of λ is optimal:\n",
        "\n",
        "Somewhat but not exactly. \n",
        "\n",
        "To get the exact value of lambda you need to split dataset between training and testing. Then cycle over multiple values of lambda. The most optimum is the one which gives the lowest test error. \n",
        "\n",
        "What does low test error represent?"
      ]
    },
    {
      "cell_type": "markdown",
      "metadata": {
        "id": "mcSDizyQbct0",
        "colab_type": "text"
      },
      "source": [
        "All models together:"
      ]
    },
    {
      "cell_type": "code",
      "metadata": {
        "id": "jCYdZCQRbct1",
        "colab_type": "code",
        "outputId": "ebb2c83b-cda5-477f-fa95-c354dee2a68f",
        "colab": {
          "base_uri": "https://localhost:8080/",
          "height": 483
        }
      },
      "source": [
        "plt.figure(figsize=(12, 8))\n",
        "plt.plot(xD, y, 'o', label='Data')\n",
        "plt.plot(xD, yPerf, 'o-', label='Underlying Distribution')\n",
        "plt.plot(xD, yPredLinear, 'o-', label='2 Feature')\n",
        "plt.plot(xD, yPred4Feature, 'o-', label='4 Feature')\n",
        "plt.plot(xD, yPred8Feature, 'o-', label='8 Feature')\n",
        "plt.plot(xD, yPred8FeatRegu, 'o-', label='8 Feature Regularized')\n",
        "\n",
        "plt.legend()\n",
        "plt.show()"
      ],
      "execution_count": 0,
      "outputs": [
        {
          "output_type": "display_data",
          "data": {
            "image/png": "[encoded data removed]",
            "text/plain": [
              "<Figure size 864x576 with 1 Axes>"
            ]
          },
          "metadata": {
            "tags": []
          }
        }
      ]
    },
    {
      "cell_type": "markdown",
      "metadata": {
        "id": "oVKTzp4Hbct2",
        "colab_type": "text"
      },
      "source": [
        "### Further Complex Multivariate Data"
      ]
    },
    {
      "cell_type": "markdown",
      "metadata": {
        "id": "Y62qieYVbct2",
        "colab_type": "text"
      },
      "source": [
        "We will take the Housing dataset which contains information about different houses in Boston. This data was originally a part of UCI Machine Learning Repository and has been removed now. We can also access this data from the scikit-learn library. There are 506 samples and 13 feature variables in this dataset. The objective is to predict the value of prices of the house using the given features."
      ]
    },
    {
      "cell_type": "code",
      "metadata": {
        "id": "wVI7N2nWbct3",
        "colab_type": "code",
        "colab": {}
      },
      "source": [
        "from sklearn.datasets import load_boston\n",
        "dataset = load_boston()"
      ],
      "execution_count": 0,
      "outputs": []
    },
    {
      "cell_type": "code",
      "metadata": {
        "id": "w_DihUt2bct4",
        "colab_type": "code",
        "outputId": "137531af-b797-4348-da83-1bd3e6176c9b",
        "colab": {
          "base_uri": "https://localhost:8080/",
          "height": 34
        }
      },
      "source": [
        "print(dataset.keys())"
      ],
      "execution_count": 0,
      "outputs": [
        {
          "output_type": "stream",
          "text": [
            "dict_keys(['data', 'target', 'feature_names', 'DESCR', 'filename'])\n"
          ],
          "name": "stdout"
        }
      ]
    },
    {
      "cell_type": "code",
      "metadata": {
        "id": "oIstAmPEbct5",
        "colab_type": "code",
        "outputId": "91388d6e-a345-441b-a4db-1337fb971a6b",
        "colab": {
          "base_uri": "https://localhost:8080/",
          "height": 904
        }
      },
      "source": [
        "print(dataset.DESCR)"
      ],
      "execution_count": 0,
      "outputs": [
        {
          "output_type": "stream",
          "text": [
            ".. _boston_dataset:\n",
            "\n",
            "Boston house prices dataset\n",
            "---------------------------\n",
            "\n",
            "**Data Set Characteristics:**  \n",
            "\n",
            "    :Number of Instances: 506 \n",
            "\n",
            "    :Number of Attributes: 13 numeric/categorical predictive. Median Value (attribute 14) is usually the target.\n",
            "\n",
            "    :Attribute Information (in order):\n",
            "        - CRIM     per capita crime rate by town\n",
            "        - ZN       proportion of residential land zoned for lots over 25,000 sq.ft.\n",
            "        - INDUS    proportion of non-retail business acres per town\n",
            "        - CHAS     Charles River dummy variable (= 1 if tract bounds river; 0 otherwise)\n",
            "        - NOX      nitric oxides concentration (parts per 10 million)\n",
            "        - RM       average number of rooms per dwelling\n",
            "        - AGE      proportion of owner-occupied units built prior to 1940\n",
            "        - DIS      weighted distances to five Boston employment centres\n",
            "        - RAD      index of accessibility to radial highways\n",
            "        - TAX      full-value property-tax rate per $10,000\n",
            "        - PTRATIO  pupil-teacher ratio by town\n",
            "        - B        1000(Bk - 0.63)^2 where Bk is the proportion of blacks by town\n",
            "        - LSTAT    % lower status of the population\n",
            "        - MEDV     Median value of owner-occupied homes in $1000's\n",
            "\n",
            "    :Missing Attribute Values: None\n",
            "\n",
            "    :Creator: Harrison, D. and Rubinfeld, D.L.\n",
            "\n",
            "This is a copy of UCI ML housing dataset.\n",
            "https://archive.ics.uci.edu/ml/machine-learning-databases/housing/\n",
            "\n",
            "\n",
            "This dataset was taken from the StatLib library which is maintained at Carnegie Mellon University.\n",
            "\n",
            "The Boston house-price data of Harrison, D. and Rubinfeld, D.L. 'Hedonic\n",
            "prices and the demand for clean air', J. Environ. Economics & Management,\n",
            "vol.5, 81-102, 1978.   Used in Belsley, Kuh & Welsch, 'Regression diagnostics\n",
            "...', Wiley, 1980.   N.B. Various transformations are used in the table on\n",
            "pages 244-261 of the latter.\n",
            "\n",
            "The Boston house-price data has been used in many machine learning papers that address regression\n",
            "problems.   \n",
            "     \n",
            ".. topic:: References\n",
            "\n",
            "   - Belsley, Kuh & Welsch, 'Regression diagnostics: Identifying Influential Data and Sources of Collinearity', Wiley, 1980. 244-261.\n",
            "   - Quinlan,R. (1993). Combining Instance-Based and Model-Based Learning. In Proceedings on the Tenth International Conference of Machine Learning, 236-243, University of Massachusetts, Amherst. Morgan Kaufmann.\n",
            "\n"
          ],
          "name": "stdout"
        }
      ]
    },
    {
      "cell_type": "code",
      "metadata": {
        "id": "LkF-i2Gubct6",
        "colab_type": "code",
        "outputId": "673fa572-dd5c-4472-a28e-7441cb6f83a3",
        "colab": {
          "base_uri": "https://localhost:8080/",
          "height": 204
        }
      },
      "source": [
        "df = pd.DataFrame(dataset.data, columns=dataset.feature_names)\n",
        "df.head()"
      ],
      "execution_count": 0,
      "outputs": [
        {
          "output_type": "execute_result",
          "data": {
            "text/html": [
              "<div>\n",
              "<style scoped>\n",
              "    .dataframe tbody tr th:only-of-type {\n",
              "        vertical-align: middle;\n",
              "    }\n",
              "\n",
              "    .dataframe tbody tr th {\n",
              "        vertical-align: top;\n",
              "    }\n",
              "\n",
              "    .dataframe thead th {\n",
              "        text-align: right;\n",
              "    }\n",
              "</style>\n",
              "<table border=\"1\" class=\"dataframe\">\n",
              "  <thead>\n",
              "    <tr style=\"text-align: right;\">\n",
              "      <th></th>\n",
              "      <th>CRIM</th>\n",
              "      <th>ZN</th>\n",
              "      <th>INDUS</th>\n",
              "      <th>CHAS</th>\n",
              "      <th>NOX</th>\n",
              "      <th>RM</th>\n",
              "      <th>AGE</th>\n",
              "      <th>DIS</th>\n",
              "      <th>RAD</th>\n",
              "      <th>TAX</th>\n",
              "      <th>PTRATIO</th>\n",
              "      <th>B</th>\n",
              "      <th>LSTAT</th>\n",
              "    </tr>\n",
              "  </thead>\n",
              "  <tbody>\n",
              "    <tr>\n",
              "      <th>0</th>\n",
              "      <td>0.00632</td>\n",
              "      <td>18.0</td>\n",
              "      <td>2.31</td>\n",
              "      <td>0.0</td>\n",
              "      <td>0.538</td>\n",
              "      <td>6.575</td>\n",
              "      <td>65.2</td>\n",
              "      <td>4.0900</td>\n",
              "      <td>1.0</td>\n",
              "      <td>296.0</td>\n",
              "      <td>15.3</td>\n",
              "      <td>396.90</td>\n",
              "      <td>4.98</td>\n",
              "    </tr>\n",
              "    <tr>\n",
              "      <th>1</th>\n",
              "      <td>0.02731</td>\n",
              "      <td>0.0</td>\n",
              "      <td>7.07</td>\n",
              "      <td>0.0</td>\n",
              "      <td>0.469</td>\n",
              "      <td>6.421</td>\n",
              "      <td>78.9</td>\n",
              "      <td>4.9671</td>\n",
              "      <td>2.0</td>\n",
              "      <td>242.0</td>\n",
              "      <td>17.8</td>\n",
              "      <td>396.90</td>\n",
              "      <td>9.14</td>\n",
              "    </tr>\n",
              "    <tr>\n",
              "      <th>2</th>\n",
              "      <td>0.02729</td>\n",
              "      <td>0.0</td>\n",
              "      <td>7.07</td>\n",
              "      <td>0.0</td>\n",
              "      <td>0.469</td>\n",
              "      <td>7.185</td>\n",
              "      <td>61.1</td>\n",
              "      <td>4.9671</td>\n",
              "      <td>2.0</td>\n",
              "      <td>242.0</td>\n",
              "      <td>17.8</td>\n",
              "      <td>392.83</td>\n",
              "      <td>4.03</td>\n",
              "    </tr>\n",
              "    <tr>\n",
              "      <th>3</th>\n",
              "      <td>0.03237</td>\n",
              "      <td>0.0</td>\n",
              "      <td>2.18</td>\n",
              "      <td>0.0</td>\n",
              "      <td>0.458</td>\n",
              "      <td>6.998</td>\n",
              "      <td>45.8</td>\n",
              "      <td>6.0622</td>\n",
              "      <td>3.0</td>\n",
              "      <td>222.0</td>\n",
              "      <td>18.7</td>\n",
              "      <td>394.63</td>\n",
              "      <td>2.94</td>\n",
              "    </tr>\n",
              "    <tr>\n",
              "      <th>4</th>\n",
              "      <td>0.06905</td>\n",
              "      <td>0.0</td>\n",
              "      <td>2.18</td>\n",
              "      <td>0.0</td>\n",
              "      <td>0.458</td>\n",
              "      <td>7.147</td>\n",
              "      <td>54.2</td>\n",
              "      <td>6.0622</td>\n",
              "      <td>3.0</td>\n",
              "      <td>222.0</td>\n",
              "      <td>18.7</td>\n",
              "      <td>396.90</td>\n",
              "      <td>5.33</td>\n",
              "    </tr>\n",
              "  </tbody>\n",
              "</table>\n",
              "</div>"
            ],
            "text/plain": [
              "      CRIM    ZN  INDUS  CHAS    NOX  ...  RAD    TAX  PTRATIO       B  LSTAT\n",
              "0  0.00632  18.0   2.31   0.0  0.538  ...  1.0  296.0     15.3  396.90   4.98\n",
              "1  0.02731   0.0   7.07   0.0  0.469  ...  2.0  242.0     17.8  396.90   9.14\n",
              "2  0.02729   0.0   7.07   0.0  0.469  ...  2.0  242.0     17.8  392.83   4.03\n",
              "3  0.03237   0.0   2.18   0.0  0.458  ...  3.0  222.0     18.7  394.63   2.94\n",
              "4  0.06905   0.0   2.18   0.0  0.458  ...  3.0  222.0     18.7  396.90   5.33\n",
              "\n",
              "[5 rows x 13 columns]"
            ]
          },
          "metadata": {
            "tags": []
          },
          "execution_count": 34
        }
      ]
    },
    {
      "cell_type": "markdown",
      "metadata": {
        "id": "94KuAUYObct8",
        "colab_type": "text"
      },
      "source": [
        "We can see that the target value by the name MEDV is missing from the dataframe. It is present in dataset.target.\n",
        "Let's add that to the df."
      ]
    },
    {
      "cell_type": "code",
      "metadata": {
        "id": "Xzyw71rKbct8",
        "colab_type": "code",
        "colab": {}
      },
      "source": [
        "df['MEDV'] = dataset.target"
      ],
      "execution_count": 0,
      "outputs": []
    },
    {
      "cell_type": "markdown",
      "metadata": {
        "id": "JaZo0Cjgbct-",
        "colab_type": "text"
      },
      "source": [
        "Are there any null values in the dataset?"
      ]
    },
    {
      "cell_type": "code",
      "metadata": {
        "id": "pogI_Oxwbct_",
        "colab_type": "code",
        "outputId": "e761fa61-8273-4e56-d5a7-19e5f3702e54",
        "colab": {
          "base_uri": "https://localhost:8080/",
          "height": 272
        }
      },
      "source": [
        "df.isnull().sum()"
      ],
      "execution_count": 0,
      "outputs": [
        {
          "output_type": "execute_result",
          "data": {
            "text/plain": [
              "CRIM       0\n",
              "ZN         0\n",
              "INDUS      0\n",
              "CHAS       0\n",
              "NOX        0\n",
              "RM         0\n",
              "AGE        0\n",
              "DIS        0\n",
              "RAD        0\n",
              "TAX        0\n",
              "PTRATIO    0\n",
              "B          0\n",
              "LSTAT      0\n",
              "MEDV       0\n",
              "dtype: int64"
            ]
          },
          "metadata": {
            "tags": []
          },
          "execution_count": 36
        }
      ]
    },
    {
      "cell_type": "markdown",
      "metadata": {
        "id": "MtEhLGisbcuA",
        "colab_type": "text"
      },
      "source": [
        "Even though there are none, it's a good practice to check."
      ]
    },
    {
      "cell_type": "markdown",
      "metadata": {
        "id": "KJeJAOaXbcuA",
        "colab_type": "text"
      },
      "source": [
        "#### Exploratory Data Analysis"
      ]
    },
    {
      "cell_type": "markdown",
      "metadata": {
        "id": "P_9C21cDbcuA",
        "colab_type": "text"
      },
      "source": [
        "We here use distplot method from the seaborn library, which is another popular graphing library for Python."
      ]
    },
    {
      "cell_type": "code",
      "metadata": {
        "id": "HZReYjg8bcuB",
        "colab_type": "code",
        "outputId": "a3b115e2-5ea8-4568-f85e-3fee9f90a2b3",
        "colab": {
          "base_uri": "https://localhost:8080/",
          "height": 557
        }
      },
      "source": [
        "sns.set(rc={'figure.figsize':(12, 9)})\n",
        "sns.distplot(df['MEDV'], bins=30)\n",
        "plt.show()"
      ],
      "execution_count": 0,
      "outputs": [
        {
          "output_type": "display_data",
          "data": {
            "image/png": "[encoded data removed]",
            "text/plain": [
              "<Figure size 864x648 with 1 Axes>"
            ]
          },
          "metadata": {
            "tags": []
          }
        }
      ]
    },
    {
      "cell_type": "markdown",
      "metadata": {
        "id": "wyrv1OqrbcuC",
        "colab_type": "text"
      },
      "source": [
        "We can see that it mostly normally distributed with a few outliers."
      ]
    },
    {
      "cell_type": "markdown",
      "metadata": {
        "id": "pGxbbm4hbcuC",
        "colab_type": "text"
      },
      "source": [
        "## Linear Regression - Assignment"
      ]
    },
    {
      "cell_type": "markdown",
      "metadata": {
        "id": "gEqwpLlpbcuD",
        "colab_type": "text"
      },
      "source": [
        "We'll work with the above dataset for the assignment below. Create a blank notebook for the assignment."
      ]
    },
    {
      "cell_type": "markdown",
      "metadata": {
        "id": "mB8b9CeFbcuD",
        "colab_type": "text"
      },
      "source": [
        "### Question 1"
      ]
    },
    {
      "cell_type": "markdown",
      "metadata": {
        "id": "WsIr8mlrbcuE",
        "colab_type": "text"
      },
      "source": [
        "1. Normalize the data using StandardScaler from sklearn. [0.5]\n",
        "2. Split the multivariate data into training/validation data (20% validation data) and plot train error and validation error as a function of the lambda regularizer. [1]\n",
        "3. What is the best lambda where the best fit occurs? Use this best lambda from here on out. [Note: You may be surprised by the best lambda here - this won't be the case for all datasets.] [1]"
      ]
    },
    {
      "cell_type": "code",
      "metadata": {
        "id": "9xYy45akYIQm",
        "colab_type": "code",
        "colab": {}
      },
      "source": [
        "import numpy as np\n",
        "import pandas as pd\n",
        "from sklearn.datasets import load_boston\n",
        "from sklearn.preprocessing import StandardScaler\n",
        "from sklearn.linear_model import LinearRegression\n",
        "from sklearn.metrics import mean_squared_error\n",
        "import matplotlib.pyplot as plt\n",
        "from sklearn.linear_model import LinearRegression\n",
        "from sklearn.preprocessing import PolynomialFeatures"
      ],
      "execution_count": 0,
      "outputs": []
    },
    {
      "cell_type": "code",
      "metadata": {
        "id": "SQcZHbAiYMQg",
        "colab_type": "code",
        "colab": {}
      },
      "source": [
        "#load the data\n",
        "dataset = load_boston()\n",
        "df = pd.DataFrame(dataset.data, columns=dataset.feature_names)#506 rows × 13 columns"
      ],
      "execution_count": 0,
      "outputs": []
    },
    {
      "cell_type": "code",
      "metadata": {
        "id": "n3TBaWsQGO5J",
        "colab_type": "code",
        "colab": {}
      },
      "source": [
        "df['MEDV'] = dataset.target"
      ],
      "execution_count": 0,
      "outputs": []
    },
    {
      "cell_type": "code",
      "metadata": {
        "id": "yNPs4c3PZ3CZ",
        "colab_type": "code",
        "outputId": "783fe868-577c-4541-9009-af2ba2eb3399",
        "colab": {
          "base_uri": "https://localhost:8080/",
          "height": 204
        }
      },
      "source": [
        "df.head()#506 rows × 14 columns"
      ],
      "execution_count": 4,
      "outputs": [
        {
          "output_type": "execute_result",
          "data": {
            "text/html": [
              "<div>\n",
              "<style scoped>\n",
              "    .dataframe tbody tr th:only-of-type {\n",
              "        vertical-align: middle;\n",
              "    }\n",
              "\n",
              "    .dataframe tbody tr th {\n",
              "        vertical-align: top;\n",
              "    }\n",
              "\n",
              "    .dataframe thead th {\n",
              "        text-align: right;\n",
              "    }\n",
              "</style>\n",
              "<table border=\"1\" class=\"dataframe\">\n",
              "  <thead>\n",
              "    <tr style=\"text-align: right;\">\n",
              "      <th></th>\n",
              "      <th>CRIM</th>\n",
              "      <th>ZN</th>\n",
              "      <th>INDUS</th>\n",
              "      <th>CHAS</th>\n",
              "      <th>NOX</th>\n",
              "      <th>RM</th>\n",
              "      <th>AGE</th>\n",
              "      <th>DIS</th>\n",
              "      <th>RAD</th>\n",
              "      <th>TAX</th>\n",
              "      <th>PTRATIO</th>\n",
              "      <th>B</th>\n",
              "      <th>LSTAT</th>\n",
              "      <th>MEDV</th>\n",
              "    </tr>\n",
              "  </thead>\n",
              "  <tbody>\n",
              "    <tr>\n",
              "      <th>0</th>\n",
              "      <td>0.00632</td>\n",
              "      <td>18.0</td>\n",
              "      <td>2.31</td>\n",
              "      <td>0.0</td>\n",
              "      <td>0.538</td>\n",
              "      <td>6.575</td>\n",
              "      <td>65.2</td>\n",
              "      <td>4.0900</td>\n",
              "      <td>1.0</td>\n",
              "      <td>296.0</td>\n",
              "      <td>15.3</td>\n",
              "      <td>396.90</td>\n",
              "      <td>4.98</td>\n",
              "      <td>24.0</td>\n",
              "    </tr>\n",
              "    <tr>\n",
              "      <th>1</th>\n",
              "      <td>0.02731</td>\n",
              "      <td>0.0</td>\n",
              "      <td>7.07</td>\n",
              "      <td>0.0</td>\n",
              "      <td>0.469</td>\n",
              "      <td>6.421</td>\n",
              "      <td>78.9</td>\n",
              "      <td>4.9671</td>\n",
              "      <td>2.0</td>\n",
              "      <td>242.0</td>\n",
              "      <td>17.8</td>\n",
              "      <td>396.90</td>\n",
              "      <td>9.14</td>\n",
              "      <td>21.6</td>\n",
              "    </tr>\n",
              "    <tr>\n",
              "      <th>2</th>\n",
              "      <td>0.02729</td>\n",
              "      <td>0.0</td>\n",
              "      <td>7.07</td>\n",
              "      <td>0.0</td>\n",
              "      <td>0.469</td>\n",
              "      <td>7.185</td>\n",
              "      <td>61.1</td>\n",
              "      <td>4.9671</td>\n",
              "      <td>2.0</td>\n",
              "      <td>242.0</td>\n",
              "      <td>17.8</td>\n",
              "      <td>392.83</td>\n",
              "      <td>4.03</td>\n",
              "      <td>34.7</td>\n",
              "    </tr>\n",
              "    <tr>\n",
              "      <th>3</th>\n",
              "      <td>0.03237</td>\n",
              "      <td>0.0</td>\n",
              "      <td>2.18</td>\n",
              "      <td>0.0</td>\n",
              "      <td>0.458</td>\n",
              "      <td>6.998</td>\n",
              "      <td>45.8</td>\n",
              "      <td>6.0622</td>\n",
              "      <td>3.0</td>\n",
              "      <td>222.0</td>\n",
              "      <td>18.7</td>\n",
              "      <td>394.63</td>\n",
              "      <td>2.94</td>\n",
              "      <td>33.4</td>\n",
              "    </tr>\n",
              "    <tr>\n",
              "      <th>4</th>\n",
              "      <td>0.06905</td>\n",
              "      <td>0.0</td>\n",
              "      <td>2.18</td>\n",
              "      <td>0.0</td>\n",
              "      <td>0.458</td>\n",
              "      <td>7.147</td>\n",
              "      <td>54.2</td>\n",
              "      <td>6.0622</td>\n",
              "      <td>3.0</td>\n",
              "      <td>222.0</td>\n",
              "      <td>18.7</td>\n",
              "      <td>396.90</td>\n",
              "      <td>5.33</td>\n",
              "      <td>36.2</td>\n",
              "    </tr>\n",
              "  </tbody>\n",
              "</table>\n",
              "</div>"
            ],
            "text/plain": [
              "      CRIM    ZN  INDUS  CHAS    NOX  ...    TAX  PTRATIO       B  LSTAT  MEDV\n",
              "0  0.00632  18.0   2.31   0.0  0.538  ...  296.0     15.3  396.90   4.98  24.0\n",
              "1  0.02731   0.0   7.07   0.0  0.469  ...  242.0     17.8  396.90   9.14  21.6\n",
              "2  0.02729   0.0   7.07   0.0  0.469  ...  242.0     17.8  392.83   4.03  34.7\n",
              "3  0.03237   0.0   2.18   0.0  0.458  ...  222.0     18.7  394.63   2.94  33.4\n",
              "4  0.06905   0.0   2.18   0.0  0.458  ...  222.0     18.7  396.90   5.33  36.2\n",
              "\n",
              "[5 rows x 14 columns]"
            ]
          },
          "metadata": {
            "tags": []
          },
          "execution_count": 4
        }
      ]
    },
    {
      "cell_type": "code",
      "metadata": {
        "id": "KkZwaSqHafnC",
        "colab_type": "code",
        "colab": {}
      },
      "source": [
        "X = df.iloc[:, :-1]#506*13 without target column\n",
        "scale = StandardScaler().fit_transform(X)\n",
        "y=np.array(dataset.target)\n",
        "bias = np.ones((X.shape[0],1))#one column\n",
        "X_std = np.concatenate((bias,scale),axis=1)#506*14"
      ],
      "execution_count": 0,
      "outputs": []
    },
    {
      "cell_type": "code",
      "metadata": {
        "id": "YnWJEaTvbxVT",
        "colab_type": "code",
        "colab": {}
      },
      "source": [
        "from sklearn.model_selection import train_test_split\n",
        "x_train, x_val, y_train, y_val = train_test_split(X_std, y, test_size = 0.2, random_state=1)"
      ],
      "execution_count": 0,
      "outputs": []
    },
    {
      "cell_type": "code",
      "metadata": {
        "id": "JuQq1CGxkOFW",
        "colab_type": "code",
        "outputId": "9b21d70d-f8f2-43dc-d025-f368bbc1c3d6",
        "colab": {
          "base_uri": "https://localhost:8080/",
          "height": 483
        }
      },
      "source": [
        "train_mse=[]\n",
        "val_mse=[]\n",
        "λs=np.arange(0,100,0.1)\n",
        "\n",
        "for λ in λs:\n",
        "    #x_train_ = np.hstack((np.ones(np.shape(x_train[:,0].reshape(-1,1))), x_train))\n",
        "    f=x_train.shape[1]\n",
        "    w = np.dot(np.linalg.inv(np.dot(x_train.T, x_train) + (λ)*np.identity(f)), np.dot(x_train.T, y_train))\n",
        "    y_train_pred=np.dot(x_train,w)\n",
        "    #x_val_ = np.hstack((np.ones(np.shape(x_val[:,0].reshape(-1,1))), x_val))\n",
        "    y_val_pred=np.dot(x_val,w)\n",
        "    train_mse.append(mean_squared_error(y_train_pred, y_train))\n",
        "    val_mse.append(mean_squared_error(y_val_pred, y_val))\n",
        "plt.figure(figsize=(12, 8))\n",
        "plt.plot(λs, train_mse, label='train_rmses')\n",
        "plt.plot(λs, val_mse, label='test_rmses')\n",
        "plt.legend()\n",
        "plt.show()\n"
      ],
      "execution_count": 7,
      "outputs": [
        {
          "output_type": "display_data",
          "data": {
            "image/png": "[encoded data removed]",
            "text/plain": [
              "<Figure size 864x576 with 1 Axes>"
            ]
          },
          "metadata": {
            "tags": []
          }
        }
      ]
    },
    {
      "cell_type": "markdown",
      "metadata": {
        "id": "y_lPHWD0XmhF",
        "colab_type": "text"
      },
      "source": [
        "Thus, the best λ is 0."
      ]
    },
    {
      "cell_type": "markdown",
      "metadata": {
        "id": "EQ6KBnbpbcuE",
        "colab_type": "text"
      },
      "source": [
        "### Question 2"
      ]
    },
    {
      "cell_type": "markdown",
      "metadata": {
        "id": "CeznulorbcuF",
        "colab_type": "text"
      },
      "source": [
        "1. Derive the gradient of the $L_2$ regularized objective for Linear Regression, $\\frac{\\partial}{\\partial \\theta_j}J(\\theta)$. Show your work (either by using in-line equations like we do here, or taking a picture of your work, and emdedding it in the notebook). [1]"
      ]
    },
    {
      "cell_type": "markdown",
      "metadata": {
        "id": "VHvPVWwgnrmC",
        "colab_type": "text"
      },
      "source": [
        "$J(\\theta) = \\frac{1}{2m}[\\sum_{i=1}^m(h_\\theta (x^{(i)}) - y^{(i)})^2 + \\lambda\\sum_{j=1}^n\\theta^2_j]=\\frac{1}{2m}[\\sum_{i=1}^m(\\theta_j x^{(i)} - y^{(i)})^2 + \\lambda\\sum_{j=1}^n\\theta^2_j]$\n",
        "\n",
        "\n",
        "$\\frac{\\partial}{\\partial \\theta_j}J(\\theta)=\\frac{1}{2m}[2\\sum_{i=1}^mx^i (\\theta_jx^{(i)} - y^{(i)}) + 2\\lambda\\sum_{j=1}^n\\theta_j]=\\frac{1}{m}\\sum_{i=1}^m (h_\\theta x^{(i)} - y^{(i)})x^i_j + \\frac {\\lambda} {m}\\theta_j$\n",
        "\n",
        "$\\theta_j=\\theta_j-\\frac{\\partial}{\\partial \\theta_j}J(\\theta)\\alpha=(1-\\frac {\\alpha\\lambda} {m})\\theta_j-\\frac {\\alpha} {m}\\sum_{i=1}^m (h_\\theta x^{(i)} - y^{(i)})x^i_j$ ,where $\\alpha$ is learning rate.\n"
      ]
    },
    {
      "cell_type": "markdown",
      "metadata": {
        "id": "dqtcegWNbcuF",
        "colab_type": "text"
      },
      "source": [
        "### Question 3"
      ]
    },
    {
      "cell_type": "markdown",
      "metadata": {
        "id": "LcxGaS1mbcuF",
        "colab_type": "text"
      },
      "source": [
        "1. Implement batch gradient descent for linear regression using a fixed learning rate $\\eta$ of 1e-2. [1.5]\n",
        "\n",
        "2. Run the gradient descent for a fixed number of epochs (based on convergence) and verify that the results closely approximate the matrix solution with the same lambda. [1]"
      ]
    },
    {
      "cell_type": "code",
      "metadata": {
        "id": "d53J4xEnNas1",
        "colab_type": "code",
        "outputId": "f88f1cc1-e5bb-4a12-9f7d-f8e98d1e07c5",
        "colab": {
          "base_uri": "https://localhost:8080/",
          "height": 534
        }
      },
      "source": [
        "def gradient_descent(alpha,λ,x,y,numIterations):\n",
        "    m = x.shape[0] # number of samples\n",
        "    theta = np.zeros(14)\n",
        "    b=0\n",
        "    x_transpose = x.transpose()\n",
        "    costplot=[]\n",
        "    for iter in range(0, numIterations):\n",
        "        hypothesis = np.dot(x, theta)+b\n",
        "        loss = hypothesis - y\n",
        "        cost = (1/(2*m))*loss.T @ loss\n",
        "        costplot.append(cost)\n",
        "        gradient = np.dot(x_transpose, loss) / m   \n",
        "        theta = theta - alpha * gradient  # update\n",
        "\n",
        "\n",
        "    return theta,costplot\n",
        "η=0.01\n",
        "\n",
        "theta_, costplot= gradient_descent(η,0, x_train, y_train, 10000)\n",
        "print(theta_)\n",
        "plt.figure(figsize=(12, 8))\n",
        "plt.plot(range(10000), costplot, '-', label='cost')\n",
        "plt.legend()\n",
        "plt.show()\n"
      ],
      "execution_count": 8,
      "outputs": [
        {
          "output_type": "stream",
          "text": [
            "[22.58473025 -0.96538457  1.35179586  0.12382916  0.54075289 -2.26647747\n",
            "  2.1731797   0.12490783 -3.15627929  2.65036262 -1.86622419 -2.13892913\n",
            "  0.66764958 -3.88524821]\n"
          ],
          "name": "stdout"
        },
        {
          "output_type": "display_data",
          "data": {
            "image/png": "[encoded data removed]",
            "text/plain": [
              "<Figure size 864x576 with 1 Axes>"
            ]
          },
          "metadata": {
            "tags": []
          }
        }
      ]
    },
    {
      "cell_type": "code",
      "metadata": {
        "id": "nyD0H2_ySafD",
        "colab_type": "code",
        "outputId": "ca602787-ed50-4381-ba8a-de482112af2a",
        "colab": {
          "base_uri": "https://localhost:8080/",
          "height": 68
        }
      },
      "source": [
        "#analytical solution\n",
        "λ=0\n",
        "w = np.dot(np.linalg.inv(np.dot(x_train.T, x_train) + (λ)*np.identity(f)), np.dot(x_train.T, y_train))\n",
        "w"
      ],
      "execution_count": 9,
      "outputs": [
        {
          "output_type": "execute_result",
          "data": {
            "text/plain": [
              "array([22.58460645, -0.965745  ,  1.3527328 ,  0.12582714,  0.54046677,\n",
              "       -2.26676928,  2.17277423,  0.12521318, -3.15644437,  2.65621114,\n",
              "       -1.87279982, -2.13903069,  0.66773631, -3.8854983 ])"
            ]
          },
          "metadata": {
            "tags": []
          },
          "execution_count": 9
        }
      ]
    },
    {
      "cell_type": "code",
      "metadata": {
        "id": "aWkMcKai7H95",
        "colab_type": "code",
        "colab": {
          "base_uri": "https://localhost:8080/",
          "height": 282
        },
        "outputId": "093eff3d-1691-4ffd-e83e-0653c88b6ef1"
      },
      "source": [
        "precent_error = (w-theta_)/(theta_)*100\n",
        "plt.plot(precent_error)"
      ],
      "execution_count": 10,
      "outputs": [
        {
          "output_type": "execute_result",
          "data": {
            "text/plain": [
              "[<matplotlib.lines.Line2D at 0x7f238b31bc88>]"
            ]
          },
          "metadata": {
            "tags": []
          },
          "execution_count": 10
        },
        {
          "output_type": "display_data",
          "data": {
            "image/png": "[encoded data removed]",
            "text/plain": [
              "<Figure size 432x288 with 1 Axes>"
            ]
          },
          "metadata": {
            "tags": []
          }
        }
      ]
    },
    {
      "cell_type": "markdown",
      "metadata": {
        "id": "H-LLaEAma9bD",
        "colab_type": "text"
      },
      "source": [
        "The analytical solution has matched with gradient descent solution."
      ]
    },
    {
      "cell_type": "markdown",
      "metadata": {
        "id": "uZWf70gxbcuG",
        "colab_type": "text"
      },
      "source": [
        "### Question 4"
      ]
    },
    {
      "cell_type": "markdown",
      "metadata": {
        "id": "VE0M8T1zbcuG",
        "colab_type": "text"
      },
      "source": [
        "1. Plot training error performance vs. number of epochs as a function of learning rate $\\eta$ for a range of values {1e-6, 1e-5, 1e-4, 1e-3, 1e-2, 1e-1} with each $\\eta$ being a different line. [1]\n",
        "\n",
        "For very low $\\eta$, gradient descent should be slow to converge.  For very high $\\eta$, the error might be very unstable (i.e., not decreasing on every epoch)."
      ]
    },
    {
      "cell_type": "code",
      "metadata": {
        "id": "MJusiNsBXsMb",
        "colab_type": "code",
        "outputId": "f0100fba-5d08-44d4-f0c7-6a4e7512aef4",
        "colab": {
          "base_uri": "https://localhost:8080/",
          "height": 483
        }
      },
      "source": [
        "def gradient_descentQ4(alpha,λ,x,y,numIterations):\n",
        "    m = x.shape[0] # number of samples\n",
        "    theta = np.zeros(14)\n",
        "    b=0\n",
        "    x_transpose = x.transpose()\n",
        "    costplot=[]\n",
        "    for iter in range(0, numIterations):\n",
        "        hypothesis = np.dot(x, theta)+b\n",
        "        loss = hypothesis - y\n",
        "        cost = (1/(2*m))*loss.T @ loss\n",
        "        costplot.append(cost)\n",
        "        gradient = np.dot(x_transpose, loss) / m   \n",
        "        theta = theta - alpha * gradient  # update\n",
        "\n",
        "\n",
        "    return theta,costplot\n",
        "\n",
        "\n",
        "\n",
        "theta1,error1 = gradient_descentQ4(1e-6,0, x_train, y_train, 1000)\n",
        "theta2,error2 = gradient_descentQ4(1e-5,0, x_train, y_train, 1000)\n",
        "theta3,error3 = gradient_descentQ4(1e-4,0, x_train, y_train, 1000)\n",
        "theta4,error4 = gradient_descentQ4(1e-3,0, x_train, y_train, 1000)\n",
        "theta5,error5 = gradient_descentQ4(1e-2,0, x_train, y_train, 1000)\n",
        "theta6,error6 = gradient_descentQ4(1e-1,0, x_train, y_train, 1000)\n",
        "\n",
        "\n",
        "plt.figure(figsize=(12, 8))\n",
        "plt.plot(range(1000), error1, '-', label='error')\n",
        "plt.plot(range(1000), error2, '-', label='error')\n",
        "plt.plot(range(1000), error3, '-', label='error')\n",
        "plt.plot(range(1000), error4, '-', label='error')\n",
        "plt.plot(range(1000), error5, '-', label='error')\n",
        "plt.plot(range(1000), error6, '-', label='error')\n",
        "plt.legend(['1e-6', '1e-5', '1e-4', '1e-3','1e-2','1e-1'], loc='upper right')\n",
        "plt.show()"
      ],
      "execution_count": 11,
      "outputs": [
        {
          "output_type": "display_data",
          "data": {
            "image/png": "[encoded data removed]",
            "text/plain": [
              "<Figure size 864x576 with 1 Axes>"
            ]
          },
          "metadata": {
            "tags": []
          }
        }
      ]
    },
    {
      "cell_type": "markdown",
      "metadata": {
        "id": "CXQYiq-wbcuG",
        "colab_type": "text"
      },
      "source": [
        "### Question 5"
      ]
    },
    {
      "cell_type": "markdown",
      "metadata": {
        "id": "lbqZlUh6bcuH",
        "colab_type": "text"
      },
      "source": [
        "Implement a mini-batch version with a batch_size constant B.  When B=1, it is stochastic gradient descent.  When B=#train data points, it is full-batch.  Anywhere in between is mini-batch.  \n",
        "\n",
        "1. Choose B=1, B=16, B=128, B=256, and B=#data points and plot training error as a function of \"# of gradient updates\" and also separately as a function of \"wall-clock time\" for each value of B. [2]\n",
        "\n",
        "2. All lines should be on the same plot. Which B leads to fastest convergence in terms of #gradient updates and in terms of \"wall-clock time\"? [1]\n",
        "\n",
        "For B=1, converges fastest."
      ]
    },
    {
      "cell_type": "code",
      "metadata": {
        "id": "wEEQAWy6Esdj",
        "colab_type": "code",
        "colab": {}
      },
      "source": [
        "import time\n",
        "def gradient_descentQ5(x,y,w,lr = 0.01,iterations = 100,λ = 0,bs=1):\n",
        "    m, n = x.shape # number of samples\n",
        "    costHistory = []\n",
        "    timeHistory = []\n",
        "    start = time.time()\n",
        "    gradient_update=[]\n",
        "    numofupdate=0\n",
        "    for i in range(iterations):\n",
        "        index = np.random.permutation(m)\n",
        "        x = x[index]\n",
        "        y = y[index]\n",
        "        for j in range(0, m, bs):\n",
        "            batch_x = x[j:j+bs]\n",
        "            batch_y = y[j:j+bs]\n",
        "            hypothesis = np.dot(batch_x, w)\n",
        "            loss = hypothesis - batch_y\n",
        "            gradient = np.dot(batch_x.T, loss)/(batch_x.shape[0])\n",
        "            w = w - lr * gradient  # update\n",
        "            numofupdate=numofupdate+1\n",
        "\n",
        "\n",
        "        hypothesis = np.dot(x, w) \n",
        "        loss = hypothesis - y\n",
        "        cost = (1 /(2*m))* loss.T @ loss\n",
        "        costHistory.append(cost)\n",
        "        error = mean_squared_error(hypothesis,y)\n",
        "        endtime = time.time()\n",
        "        timeHistory.append(endtime - start)\n",
        "        gradient_update.append(numofupdate)\n",
        "    return w, costHistory, timeHistory,gradient_update\n",
        "\n",
        "lr = 0.01\n",
        "λ = 0\n",
        "iterations = 20\n",
        "w=np.random.randn(14)\n",
        "m = x_train.shape[0]\n",
        "cost_list= []\n",
        "clock_times_list = []\n",
        "cost_iterations_list = []\n",
        "for B in [1, 16, 128, 256, m]:\n",
        "    theta_, costplot_, clock_times_,_ = gradient_descentQ5(x_train,y_train,w,lr,iterations,λ, B)\n",
        "    cost_list.append(costplot_)\n",
        "    clock_times_list.append(clock_times_)\n",
        "df_cost = pd.DataFrame(cost_list, index = [1, 16, 128, 256, m]).T\n",
        "df_time = pd.DataFrame(clock_times_list, index = [1, 16, 128, 256, m]).T\n"
      ],
      "execution_count": 0,
      "outputs": []
    },
    {
      "cell_type": "code",
      "metadata": {
        "id": "RIB7rCxYb6ih",
        "colab_type": "code",
        "outputId": "045f29b1-e93e-4706-8572-a96d8400b708",
        "colab": {
          "base_uri": "https://localhost:8080/",
          "height": 405
        }
      },
      "source": [
        "%matplotlib inline\n",
        "df_cost.plot(figsize = (8, 6))\n",
        "plt.xlabel('iteration')\n",
        "plt.ylabel('error')"
      ],
      "execution_count": 13,
      "outputs": [
        {
          "output_type": "execute_result",
          "data": {
            "text/plain": [
              "Text(0, 0.5, 'error')"
            ]
          },
          "metadata": {
            "tags": []
          },
          "execution_count": 13
        },
        {
          "output_type": "display_data",
          "data": {
            "image/png": "[encoded data removed]",
            "text/plain": [
              "<Figure size 576x432 with 1 Axes>"
            ]
          },
          "metadata": {
            "tags": []
          }
        }
      ]
    },
    {
      "cell_type": "code",
      "metadata": {
        "id": "SPnCFC-sb9s7",
        "colab_type": "code",
        "outputId": "9063bbd9-fe2c-492f-c484-a83a456a77a2",
        "colab": {
          "base_uri": "https://localhost:8080/",
          "height": 405
        }
      },
      "source": [
        "plt.figure(figsize = (8, 6))\n",
        "for i in range(5):\n",
        "    plt.plot(clock_times_list[i], cost_list[i])\n",
        "plt.legend([1, 16, 128, 256, m])\n",
        "plt.xlabel('time')\n",
        "plt.ylabel('error')"
      ],
      "execution_count": 14,
      "outputs": [
        {
          "output_type": "execute_result",
          "data": {
            "text/plain": [
              "Text(0, 0.5, 'error')"
            ]
          },
          "metadata": {
            "tags": []
          },
          "execution_count": 14
        },
        {
          "output_type": "display_data",
          "data": {
            "image/png": "[encoded data removed]",
            "text/plain": [
              "<Figure size 576x432 with 1 Axes>"
            ]
          },
          "metadata": {
            "tags": []
          }
        }
      ]
    },
    {
      "cell_type": "code",
      "metadata": {
        "id": "dQsjcs4dasNQ",
        "colab_type": "code",
        "colab": {
          "base_uri": "https://localhost:8080/",
          "height": 279
        },
        "outputId": "71f2fdee-c59a-43c0-fcc5-d8c9166de4a7"
      },
      "source": [
        "for B in [1, 16, 128, 256, m]:\n",
        "    theta_, costplot_, clock_times_,gradientnum = gradient_descentQ5(x_train,y_train,w,lr,iterations,λ, B)\n",
        "    plt.plot(gradientnum,costplot_)\n",
        "    plt.legend([1, 16, 128, 256, m])\n",
        "    plt.xlabel('number of updates')\n",
        "    plt.ylabel('error')\n"
      ],
      "execution_count": 15,
      "outputs": [
        {
          "output_type": "display_data",
          "data": {
            "image/png": "[encoded data removed]",
            "text/plain": [
              "<Figure size 432x288 with 1 Axes>"
            ]
          },
          "metadata": {
            "tags": []
          }
        }
      ]
    },
    {
      "cell_type": "markdown",
      "metadata": {
        "id": "BUZYiueSbcuH",
        "colab_type": "text"
      },
      "source": [
        "### Question 6"
      ]
    },
    {
      "cell_type": "markdown",
      "metadata": {
        "id": "RWB-1inrbcuH",
        "colab_type": "text"
      },
      "source": [
        "1. Switch to absolute error for loss but still use $L_2$ regularization. Derive the gradient for this case, $\\frac{\\partial}{\\partial \\theta_j}J(\\theta)$. [1.5]\n"
      ]
    },
    {
      "cell_type": "markdown",
      "metadata": {
        "id": "p8ICW5-coppR",
        "colab_type": "text"
      },
      "source": [
        "$J(\\theta) = \\frac{1}{2m}[\\sum_{i=1}^m|h_\\theta (x^{(i)}) - y^{(i)})| + \\lambda\\sum_{j=1}^n\\theta^2_j]=\\frac{1}{2m}[\\sum_{i=1}^m|(\\theta_j x^{(i)} - y^{(i)})| + \\lambda\\sum_{j=1}^n\\theta^2_j]$\n",
        "\n",
        "\n",
        "define: Z=$|(\\theta_j x^{(i)} - y^{(i)})|=\\sqrt{(\\theta_j x^{(i)} - y^{(i)})^2}$\n",
        "\n",
        "$\\frac{\\partial}{\\partial \\theta_j}Z(\\theta)=x^{(i)}_j \\frac{\\theta_j(x^{(i)})-y^{(i)}}{\\mid \\theta_j(x^{(i)})-y^{(i)}\\mid}$\n",
        "\n",
        "\n",
        "\n",
        "$\\therefore \\frac{\\partial}{\\partial \\theta_j}J(\\theta) = \\frac{1}{m}[\\sum_{i=1}^mx^{(i)}_j \\frac{h_\\theta(x^{(i)})-y^{(i)}}{\\mid h_\\theta(x^{(i)})-y^{(i)}\\mid}+2\\lambda\\theta_j]$\n",
        "\n",
        "$\\therefore\\theta_j=\\theta_j-\\alpha*\\frac{\\partial}{\\partial \\theta_j}J(\\theta)$"
      ]
    },
    {
      "cell_type": "markdown",
      "metadata": {
        "id": "p5r4aMfOom9_",
        "colab_type": "text"
      },
      "source": [
        "2. Tune $\\eta$ and B to obtain good performance (fast convergence to minimum error, but not noisy).  Is it easier to train with squared error or absolute error, why?  Show some plots that help you demonstrate this point and explain. [1]"
      ]
    },
    {
      "cell_type": "code",
      "metadata": {
        "id": "P7jklHrbTuPu",
        "colab_type": "code",
        "colab": {}
      },
      "source": [
        "import time\n",
        "def gradient_descentQ6(x,y,w,lr = 0.01,iterations = 100,λ = 0,bs=1):\n",
        "    m, n = x.shape # number of samples\n",
        "    costHistory = []\n",
        "    timeHistory = []\n",
        "    start = time.time()\n",
        "    gradient_update=[]\n",
        "    numofupdate=0\n",
        "    for i in range(iterations):\n",
        "        index = np.random.permutation(m)\n",
        "        x = x[index]\n",
        "        y = y[index]\n",
        "        for j in range(0, m, bs):\n",
        "            batch_x = x[j:j+bs]\n",
        "            batch_y = y[j:j+bs]\n",
        "            hypothesis = np.dot(batch_x, w)\n",
        "            loss=hypothesis-batch_y\n",
        "            w = w - 1/(batch_x.shape[0])*lr*(batch_x.T.dot(((hypothesis-batch_y)/np.abs(hypothesis-batch_y))))\n",
        "            numofupdate=numofupdate+1\n",
        "        hypo=np.dot(x,w)\n",
        "        error = mean_squared_error(hypo,y)\n",
        "        costHistory.append(error)\n",
        "        endtime = time.time()\n",
        "        timeHistory.append(endtime - start)\n",
        "        gradient_update.append(numofupdate)\n",
        "    return w, costHistory, timeHistory,gradient_update\n",
        "\n",
        "lr = 0.01\n",
        "λ = 0\n",
        "iterations = 20\n",
        "w=np.random.randn(14)\n",
        "m = x_train.shape[0]\n",
        "cost_list= []\n",
        "clock_times_list = []\n",
        "cost_iterations_list = []\n",
        "for B in [1, 16, 128, 256, m]:\n",
        "    theta_, costplot_, clock_times_,_ = gradient_descentQ6(x_train,y_train,w,lr,iterations,λ, B)\n",
        "    cost_list.append(costplot_)\n",
        "    clock_times_list.append(clock_times_)\n",
        "df_cost = pd.DataFrame(cost_list, index = [1, 16, 128, 256, m]).T\n",
        "df_time = pd.DataFrame(clock_times_list, index = [1, 16, 128, 256, m]).T\n"
      ],
      "execution_count": 0,
      "outputs": []
    },
    {
      "cell_type": "code",
      "metadata": {
        "id": "odsJaEdZTxOQ",
        "colab_type": "code",
        "colab": {
          "base_uri": "https://localhost:8080/",
          "height": 405
        },
        "outputId": "8643cbd4-32b7-41ee-dcb5-4136a172b647"
      },
      "source": [
        "%matplotlib inline\n",
        "df_cost.plot(figsize = (8, 6))\n",
        "plt.xlabel('iteration')\n",
        "plt.ylabel('error')"
      ],
      "execution_count": 17,
      "outputs": [
        {
          "output_type": "execute_result",
          "data": {
            "text/plain": [
              "Text(0, 0.5, 'error')"
            ]
          },
          "metadata": {
            "tags": []
          },
          "execution_count": 17
        },
        {
          "output_type": "display_data",
          "data": {
            "image/png": "[encoded data removed]",
            "text/plain": [
              "<Figure size 576x432 with 1 Axes>"
            ]
          },
          "metadata": {
            "tags": []
          }
        }
      ]
    },
    {
      "cell_type": "code",
      "metadata": {
        "id": "FOLEJYiZTzJJ",
        "colab_type": "code",
        "colab": {
          "base_uri": "https://localhost:8080/",
          "height": 405
        },
        "outputId": "3425d226-c91d-45d9-94d5-4a68c7b4e7b9"
      },
      "source": [
        "plt.figure(figsize = (8, 6))\n",
        "for i in range(5):\n",
        "    plt.plot(clock_times_list[i], cost_list[i])\n",
        "plt.legend([1, 16, 128, 256, m])\n",
        "plt.xlabel('time')\n",
        "plt.ylabel('error')"
      ],
      "execution_count": 18,
      "outputs": [
        {
          "output_type": "execute_result",
          "data": {
            "text/plain": [
              "Text(0, 0.5, 'error')"
            ]
          },
          "metadata": {
            "tags": []
          },
          "execution_count": 18
        },
        {
          "output_type": "display_data",
          "data": {
            "image/png": "[encoded data removed]",
            "text/plain": [
              "<Figure size 576x432 with 1 Axes>"
            ]
          },
          "metadata": {
            "tags": []
          }
        }
      ]
    },
    {
      "cell_type": "code",
      "metadata": {
        "id": "iF8AfvxBT1lY",
        "colab_type": "code",
        "colab": {
          "base_uri": "https://localhost:8080/",
          "height": 279
        },
        "outputId": "26bdda3e-1053-41ac-fa79-7c493141a394"
      },
      "source": [
        "for B in [1, 16, 128, 256, m]:\n",
        "    theta_, costplot_, clock_times_,gradientnum = gradient_descentQ5(x_train,y_train,w,lr,iterations,λ, B)\n",
        "    plt.plot(gradientnum,costplot_)\n",
        "    plt.legend([1, 16, 128, 256, m])\n",
        "    plt.xlabel('number of updates')\n",
        "    plt.ylabel('error')"
      ],
      "execution_count": 19,
      "outputs": [
        {
          "output_type": "display_data",
          "data": {
            "image/png": "[encoded data removed]",
            "text/plain": [
              "<Figure size 432x288 with 1 Axes>"
            ]
          },
          "metadata": {
            "tags": []
          }
        }
      ]
    },
    {
      "cell_type": "markdown",
      "metadata": {
        "id": "w7ynum85T5tn",
        "colab_type": "text"
      },
      "source": [
        "\n",
        "**$\\eta$ =0.01 and B=16 were best for mean absolute error.**\n",
        "\n",
        "\n",
        "---\n",
        "\n",
        "\n",
        "\n",
        "**It is easier to train squarred error than abs error. From the plots in Q5 for squred error show it is converging much faster in time, iterations, and #gradient updates, for B=16 and nu = 0.01.**"
      ]
    },
    {
      "cell_type": "markdown",
      "metadata": {
        "id": "AvpZij1PbcuH",
        "colab_type": "text"
      },
      "source": [
        "### Question 7 "
      ]
    },
    {
      "cell_type": "markdown",
      "metadata": {
        "id": "hFhVjOGmbcuI",
        "colab_type": "text"
      },
      "source": [
        "1. Does the model perform better if polynomial features are added (Use sklearn.preprocessing.PolynomialFeatures to test it out).\n",
        "\n",
        "\n",
        "2. Does the optimal value of λ (regularization constant) change with this new set of features added."
      ]
    },
    {
      "cell_type": "code",
      "metadata": {
        "id": "64FaMozTiwEw",
        "colab_type": "code",
        "colab": {
          "base_uri": "https://localhost:8080/",
          "height": 51
        },
        "outputId": "5d413413-3cb2-4cd9-a0c3-1448d18f4d4f"
      },
      "source": [
        "from sklearn.preprocessing import PolynomialFeatures\n",
        "λ = 0\n",
        "w = np.dot(np.linalg.inv(np.dot(x_train.T, x_train) + (λ)*np.identity(x_train.shape[1])), np.dot(x_train.T, y_train))\n",
        "y_pred = np.dot(x_val, w)\n",
        "print('mse of original data:', mean_squared_error(y_pred, y_val))\n",
        "\n",
        "λ = 0.0000001\n",
        "x_train_poly = PolynomialFeatures(2).fit_transform(x_train)\n",
        "x_val_poly = PolynomialFeatures(2).fit_transform(x_val)\n",
        "w_poly = np.dot(np.linalg.inv(np.dot(x_train_poly.T, x_train_poly) + (λ)*np.identity(x_train_poly.shape[1])), np.dot(x_train_poly.T, y_train))\n",
        "\n",
        "y_val_pred = np.dot(x_val_poly, w_poly)\n",
        "print('polynomial features(degree = 2) mse:', mean_squared_error(y_val_pred, y_val))"
      ],
      "execution_count": 20,
      "outputs": [
        {
          "output_type": "stream",
          "text": [
            "mse of original data: 23.38083648027022\n",
            "polynomial features(degree = 2) mse: 8.73390490062732\n"
          ],
          "name": "stdout"
        }
      ]
    },
    {
      "cell_type": "markdown",
      "metadata": {
        "id": "KQgeHV1dU-EY",
        "colab_type": "text"
      },
      "source": [
        "It performs better and it need a larger value of λ."
      ]
    },
    {
      "cell_type": "markdown",
      "metadata": {
        "colab_type": "text",
        "id": "7rKZXBodwA5P"
      },
      "source": [
        "## References"
      ]
    },
    {
      "cell_type": "markdown",
      "metadata": {
        "colab_type": "text",
        "id": "PA-T9S4RwA5P"
      },
      "source": [
        "Linear Regression:\n",
        "1. https://sebastianraschka.com/faq/docs/closed-form-vs-gd.html\n",
        "\n",
        "Gradient Descent (images and equations):\n",
        "1. https://towardsdatascience.com/linear-regression-using-gradient-descent-97a6c8700931\n",
        "2. https://towardsdatascience.com/linear-regression-using-python-b136c91bf0a2\n",
        "\n",
        "Author: Parth Jaggi"
      ]
    }
  ]
}